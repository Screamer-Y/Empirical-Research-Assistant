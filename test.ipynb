{
 "cells": [
  {
   "cell_type": "code",
   "execution_count": 2,
   "metadata": {},
   "outputs": [],
   "source": [
    "from langchain_openai import ChatOpenAI\n",
    "model = ChatOpenAI(model=\"gpt-3.5-turbo\", temperature=0.0, api_key='')\n",
    "from langchain_core.messages import HumanMessage\n",
    "model.invoke([HumanMessage(content=\"Hi! I'm Bob\")])"
   ]
  },
  {
   "cell_type": "code",
   "execution_count": 28,
   "metadata": {},
   "outputs": [
    {
     "name": "stdout",
     "output_type": "stream",
     "text": [
      "_id                  1\n",
      "_labels        :Person\n",
      "name             Alice\n",
      "age               29.0\n",
      "occupation    Engineer\n",
      "Name: 0, dtype: object\n",
      "_id                 2\n",
      "_labels       :Person\n",
      "name              Bob\n",
      "age              35.0\n",
      "occupation     Doctor\n",
      "Name: 1, dtype: object\n",
      "_id                 3\n",
      "_labels       :Person\n",
      "name          Charlie\n",
      "age              32.0\n",
      "occupation     Artist\n",
      "Name: 2, dtype: object\n",
      "_id                 4\n",
      "_labels       :Person\n",
      "name            Diana\n",
      "age              28.0\n",
      "occupation     Writer\n",
      "Name: 3, dtype: object\n",
      "_id                   5\n",
      "_labels         :Person\n",
      "name                Eve\n",
      "age                40.0\n",
      "occupation    Scientist\n",
      "Name: 4, dtype: object\n",
      "_id                  6\n",
      "_labels       :Company\n",
      "name          TechCorp\n",
      "age                NaN\n",
      "occupation         NaN\n",
      "Name: 5, dtype: object\n",
      "_id                   7\n",
      "_labels        :Company\n",
      "name          HealthInc\n",
      "age                 NaN\n",
      "occupation          NaN\n",
      "Name: 6, dtype: object\n",
      "_id                  8\n",
      "_labels          :City\n",
      "name          New York\n",
      "age                NaN\n",
      "occupation         NaN\n",
      "Name: 7, dtype: object\n",
      "_id                       9\n",
      "_labels               :City\n",
      "name          San Francisco\n",
      "age                     NaN\n",
      "occupation              NaN\n",
      "Name: 8, dtype: object\n",
      "_id                       10\n",
      "_labels               :Event\n",
      "name          Conference2024\n",
      "age                      NaN\n",
      "occupation               NaN\n",
      "Name: 9, dtype: object\n"
     ]
    }
   ],
   "source": [
    "import pandas as pd\n",
    "\n",
    "nodes_df = pd.read_csv(r\"C:\\Vscode WorkSpace\\Empirical-Research-Assistant\\src\\test_nodes.csv\")\n",
    "edges_df = pd.read_csv(r\"C:\\Vscode WorkSpace\\Empirical-Research-Assistant\\src\\test_relationships.csv\")\n",
    "edges_df.rename(columns={'_from': 'source', '_to': 'target', '_type':'label'}, inplace=True)\n",
    "\n",
    "nodes_df\n",
    "edges_df\n",
    "for idx, row in nodes_df.iterrows():\n",
    "    print(row)"
   ]
  }
 ],
 "metadata": {
  "kernelspec": {
   "display_name": "er_asst",
   "language": "python",
   "name": "python3"
  },
  "language_info": {
   "codemirror_mode": {
    "name": "ipython",
    "version": 3
   },
   "file_extension": ".py",
   "mimetype": "text/x-python",
   "name": "python",
   "nbconvert_exporter": "python",
   "pygments_lexer": "ipython3",
   "version": "3.11.9"
  }
 },
 "nbformat": 4,
 "nbformat_minor": 2
}
