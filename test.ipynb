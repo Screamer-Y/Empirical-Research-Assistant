{
 "cells": [
  {
   "cell_type": "code",
   "execution_count": 2,
   "metadata": {},
   "outputs": [],
   "source": [
    "import pandas as pd\n",
    "import numpy as np\n",
    "\n",
    "# Define the structure of the example dataset based on the provided fields\n",
    "example_data = {\n",
    "    \"PatternID\": [1, 2, 3],\n",
    "    \"PatternName\": [\"Geometric Bliss\", \"Floral Symphony\", \"Abstract Mirage\"],\n",
    "    \"PatternType\": [\"geometric\", \"floral\", \"abstract\"],\n",
    "    \"Description\": [\n",
    "        \"A mesmerizing geometric pattern with interlocking shapes.\",\n",
    "        \"A vibrant floral pattern with a mix of various flowers.\",\n",
    "        \"An abstract pattern with random shapes and colors.\"\n",
    "    ],\n",
    "    \"ColorPalette\": [\"blue, green, white\", \"red, yellow, pink\", \"black, white, red\"],\n",
    "    \"Dimensions\": [\"10x10 inches\", \"12x12 inches\", \"8x8 inches\"],\n",
    "    \"Resolution\": [300, 300, 300],\n",
    "    \"FileFormat\": [\"JPEG\", \"PNG\", \"SVG\"],\n",
    "    \"CreationDate\": [\"2023-01-01\", \"2023-02-14\", \"2023-03-20\"],\n",
    "    \"Creator\": [\"Alice Smith\", \"Bob Johnson\", \"Charlie Davis\"],\n",
    "    \"UsageRights\": [\"CC BY-SA\", \"CC BY-NC\", \"CC0\"],\n",
    "    \"PopularityScore\": [4.5, 3.8, 4.2],\n",
    "    \"Tags\": [\"modern, geometric\", \"nature, flowers\", \"abstract, artistic\"],\n",
    "    \"ThumbnailURL\": [\n",
    "        \"http://example.com/thumbnails/geometric_bliss.jpg\",\n",
    "        \"http://example.com/thumbnails/floral_symphony.png\",\n",
    "        \"http://example.com/thumbnails/abstract_mirage.svg\"\n",
    "    ],\n",
    "    \"SourceURL\": [\n",
    "        \"http://example.com/patterns/geometric_bliss\",\n",
    "        \"http://example.com/patterns/floral_symphony\",\n",
    "        \"http://example.com/patterns/abstract_mirage\"\n",
    "    ]\n",
    "}\n",
    "\n",
    "# Create a DataFrame\n",
    "df = pd.DataFrame(example_data)\n",
    "\n",
    "# df.to_csv(r'C:\\Vscode WorkSpace\\Empirical-Research-Assistant\\projects\\test\\example_dataset.csv', index=False)\n"
   ]
  },
  {
   "cell_type": "code",
   "execution_count": 3,
   "metadata": {},
   "outputs": [
    {
     "data": {
      "text/plain": [
       "Index(['PatternID', 'PatternName', 'PatternType', 'Description',\n",
       "       'ColorPalette', 'Dimensions', 'Resolution', 'FileFormat',\n",
       "       'CreationDate', 'Creator', 'UsageRights', 'PopularityScore', 'Tags',\n",
       "       'ThumbnailURL', 'SourceURL'],\n",
       "      dtype='object')"
      ]
     },
     "execution_count": 3,
     "metadata": {},
     "output_type": "execute_result"
    }
   ],
   "source": [
    "df.columns[['PatternType', 'Description', 'ColorPalette', 'Dimensions']]"
   ]
  }
 ],
 "metadata": {
  "kernelspec": {
   "display_name": "er_asst",
   "language": "python",
   "name": "python3"
  },
  "language_info": {
   "codemirror_mode": {
    "name": "ipython",
    "version": 3
   },
   "file_extension": ".py",
   "mimetype": "text/x-python",
   "name": "python",
   "nbconvert_exporter": "python",
   "pygments_lexer": "ipython3",
   "version": "3.11.9"
  }
 },
 "nbformat": 4,
 "nbformat_minor": 2
}
